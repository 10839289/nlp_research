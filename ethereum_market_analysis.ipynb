{
  "nbformat": 4,
  "nbformat_minor": 0,
  "metadata": {
    "colab": {
      "provenance": [],
      "collapsed_sections": [
        "JMRVBGWcxV3d",
        "hSGOoiBFEHPc",
        "NcB21oZcJ_W4"
      ]
    },
    "kernelspec": {
      "name": "python3",
      "display_name": "Python 3"
    },
    "language_info": {
      "name": "python"
    }
  },
  "cells": [
    {
      "cell_type": "markdown",
      "source": [
        "## Predicting Market Movement of Ethereum with Sentiments from Twitter\n",
        "\n",
        "####Abstract. \n",
        "As with any other industry, cryptocurrency and its market are also influenced by a variety of factors. These can range from general sentiments about blockchain technology and digital currencies, to more specific events like exchange hacks or partnerships between different companies. Twitter has developed into a huge social tool used all over the world for the ex-change of ideas and views. As a consequence of this, cryptocurren-cy investors and traders are looking to utilize the platform so that it can assist them in making sound financial choices. It has been demonstrated that the sentiments gleaned from the contents of Twitter, specifically tweets and comments, are a reliable indicator of the movements of markets. The objec-tive of this paper is to investigate and further explore how sentiments and volume of data from twitter can influence the movement of Ethereum Mar-ket. A number of different classification models were developed based on three features; for a given day, an average sentiment score of tweets, the volume of tweet and an interest score from google trends. Random Forest Classifier and Naïve Bayes model were trained to predict the change in Ethereum market given those features. \n"
      ],
      "metadata": {
        "id": "KtXstgGJ2wQs"
      }
    },
    {
      "cell_type": "markdown",
      "source": [
        "# Data"
      ],
      "metadata": {
        "id": "1rHUwYLHFMbd"
      }
    },
    {
      "cell_type": "markdown",
      "source": [
        "#### Imports"
      ],
      "metadata": {
        "id": "Oe2oAWcQFPtD"
      }
    },
    {
      "cell_type": "code",
      "execution_count": 2,
      "metadata": {
        "id": "8PioPWWXUwNh",
        "colab": {
          "base_uri": "https://localhost:8080/"
        },
        "outputId": "d2580a08-5323-40cc-9c23-984ddad1eb1c"
      },
      "outputs": [
        {
          "output_type": "stream",
          "name": "stderr",
          "text": [
            "[nltk_data] Downloading package punkt to /root/nltk_data...\n",
            "[nltk_data]   Unzipping tokenizers/punkt.zip.\n",
            "[nltk_data] Downloading package averaged_perceptron_tagger to\n",
            "[nltk_data]     /root/nltk_data...\n",
            "[nltk_data]   Unzipping taggers/averaged_perceptron_tagger.zip.\n",
            "[nltk_data] Downloading package wordnet to /root/nltk_data...\n",
            "[nltk_data] Downloading package averaged_perceptron_tagger to\n",
            "[nltk_data]     /root/nltk_data...\n",
            "[nltk_data]   Package averaged_perceptron_tagger is already up-to-\n",
            "[nltk_data]       date!\n",
            "[nltk_data] Downloading package omw-1.4 to /root/nltk_data...\n",
            "[nltk_data] Downloading package stopwords to /root/nltk_data...\n",
            "[nltk_data]   Unzipping corpora/stopwords.zip.\n",
            "[nltk_data] Downloading package vader_lexicon to /root/nltk_data...\n"
          ]
        },
        {
          "output_type": "execute_result",
          "data": {
            "text/plain": [
              "True"
            ]
          },
          "metadata": {},
          "execution_count": 2
        }
      ],
      "source": [
        "# imports\n",
        "\n",
        "import requests\n",
        "import pandas as pd\n",
        "\n",
        "import nltk\n",
        "\n",
        "nltk.download('punkt')\n",
        "nltk.download('averaged_perceptron_tagger')\n",
        "nltk.download('wordnet')\n",
        "nltk.download('averaged_perceptron_tagger')\n",
        "nltk.download('omw-1.4')\n",
        "nltk.download('stopwords')\n",
        "nltk.download('vader_lexicon')"
      ]
    },
    {
      "cell_type": "code",
      "source": [
        "# twitter api credential\n",
        "bearer_token = \"AAAAAAAAAAAAAAAAAAAAALmDhAEAAAAAo00TTYY5BIu%2FcnSpPmpHGzlk7Ro%3Dw6fjC6W57HeVqQkthB5royMsaHfAkBBx9FoZNZmjUVvux8YSpK\""
      ],
      "metadata": {
        "id": "OBv6VBgbM3Wk"
      },
      "execution_count": 3,
      "outputs": []
    },
    {
      "cell_type": "markdown",
      "source": [
        "## Getting Data"
      ],
      "metadata": {
        "id": "7qnQiXH1M_cE"
      }
    },
    {
      "cell_type": "markdown",
      "source": [
        "### Twitter API Helper functions"
      ],
      "metadata": {
        "id": "zlzRCsJRlCZO"
      }
    },
    {
      "cell_type": "code",
      "source": [
        "# function for creating headers\n",
        "def create_headers(bearer_token):\n",
        "    headers = {\"Authorization\": \"Bearer {}\".format(bearer_token)}\n",
        "    return headers"
      ],
      "metadata": {
        "id": "zGNB9Hy9M6gb"
      },
      "execution_count": 4,
      "outputs": []
    },
    {
      "cell_type": "code",
      "source": [
        "# creating an actual endpoint\n",
        "def connect_to_endpoint(url, headers, params, next_token = None):\n",
        "    params['next_token'] = next_token   #params object received from create_url function\n",
        "    response = requests.request(\"GET\", url, headers = headers, params = params)\n",
        "    print(\"Endpoint Response Code: \" + str(response.status_code))\n",
        "    if response.status_code != 200:\n",
        "        raise Exception(response.status_code, response.text)\n",
        "    return response.json()"
      ],
      "metadata": {
        "id": "cu4oybI3NvDH"
      },
      "execution_count": 5,
      "outputs": []
    },
    {
      "cell_type": "code",
      "source": [
        "# function for creating a url for searching tweets containing a query\n",
        "def create_search_url(keyword, start_date, end_date, max_results = 10):\n",
        "    \n",
        "    search_url = \"https://api.twitter.com/2/tweets/search/all\" #Change to the endpoint you want to collect data from\n",
        "\n",
        "    #change params based on the endpoint you are using\n",
        "    query_params = {'query': keyword,\n",
        "                    'start_time': start_date,\n",
        "                    'end_time': end_date,\n",
        "                    'max_results': max_results,\n",
        "                    'tweet.fields': 'id,text,author_id,created_at,lang,public_metrics',\n",
        "                    'next_token': {}}\n",
        "    return (search_url, query_params)"
      ],
      "metadata": {
        "id": "5O0EzISLNKGQ"
      },
      "execution_count": 6,
      "outputs": []
    },
    {
      "cell_type": "code",
      "source": [
        "# function for creating a url for requesting volume of data in a specified range of time\n",
        "\n",
        "def create_volume_url(keyword, start_date, end_date):\n",
        "    \n",
        "    search_url = \"https://api.twitter.com/2/tweets/counts/all\" #Change to the endpoint you want to collect data from\n",
        "\n",
        "    #change params based on the endpoint you are using\n",
        "    query_params = {'query': keyword,\n",
        "                    'start_time': start_date,\n",
        "                    'end_time': end_date,\n",
        "                    'granularity': 'day',\n",
        "                    'next_token': '1jzu9lk96azp0b3x7888hrpw8fgwirw5wnhdu5ji15z1'}\n",
        "    return (search_url, query_params)"
      ],
      "metadata": {
        "id": "uUvXUKTKNi2f"
      },
      "execution_count": 7,
      "outputs": []
    },
    {
      "cell_type": "markdown",
      "source": [
        "### Tweet Volume from March to July 2022"
      ],
      "metadata": {
        "id": "F0kYC_7ts9Ey"
      }
    },
    {
      "cell_type": "code",
      "source": [
        "# meta details\n",
        "headers = create_headers(bearer_token)\n",
        "keyword = \"ethereum lang:en\"\n",
        "start_time = '2022-03-01T00:00:00.000Z' # March 2022\n",
        "end_time = '2022-08-01T00:00:00.000Z' # July 2022\n",
        "next_token = None\n",
        "\n",
        "# loop control\n",
        "has_next_page = True\n",
        "i = 1\n",
        "\n",
        "df1 = None\n",
        "df2 = None\n",
        "df3 = None\n",
        "df4 = None\n",
        "df5 = None\n",
        "df6 = None\n",
        "\n",
        "while(has_next_page):\n",
        "  # create url\n",
        "  url = create_volume_url(keyword, start_time,end_time)\n",
        "\n",
        "  # connect to endpoint\n",
        "  json_response = connect_to_endpoint(url[0], headers, url[1], next_token)\n",
        "\n",
        "  # create a dataframe\n",
        "  if i == 1:\n",
        "    df1 = pd.DataFrame(json_response['data'])\n",
        "  elif i == 2:\n",
        "    df2 = pd.DataFrame(json_response['data'])\n",
        "  elif i == 3:\n",
        "    df3 = pd.DataFrame(json_response['data'])\n",
        "  elif i == 4:\n",
        "    df4 = pd.DataFrame(json_response['data'])\n",
        "  elif i == 5:\n",
        "    df5 = pd.DataFrame(json_response['data'])\n",
        "  elif i == 6:\n",
        "      df6 = pd.DataFrame(json_response['data'])\n",
        "\n",
        "  i = i +  1\n",
        "  print(i)\n",
        "\n",
        "  try:\n",
        "    json_response['meta']['next_token']\n",
        "    next_token = json_response['meta']['next_token']\n",
        "  except KeyError:\n",
        "    has_next_page = False\n",
        "  "
      ],
      "metadata": {
        "colab": {
          "base_uri": "https://localhost:8080/"
        },
        "id": "wGT2GuxaXnVQ",
        "outputId": "9c9bcf59-d72e-4cb8-8d10-7f486ed460c3"
      },
      "execution_count": 8,
      "outputs": [
        {
          "output_type": "stream",
          "name": "stdout",
          "text": [
            "Endpoint Response Code: 200\n",
            "2\n",
            "Endpoint Response Code: 200\n",
            "3\n",
            "Endpoint Response Code: 200\n",
            "4\n",
            "Endpoint Response Code: 200\n",
            "5\n",
            "Endpoint Response Code: 200\n",
            "6\n"
          ]
        }
      ]
    },
    {
      "cell_type": "code",
      "source": [],
      "metadata": {
        "id": "GxLLl1uWqmB1"
      },
      "execution_count": 8,
      "outputs": []
    },
    {
      "cell_type": "code",
      "source": [
        "# DataFrame for tweet counts\n",
        "volume_df = pd.concat([df1, df2, df3, df4, df5], ignore_index=True, sort=False)"
      ],
      "metadata": {
        "id": "bdzedq62WR1i"
      },
      "execution_count": 9,
      "outputs": []
    },
    {
      "cell_type": "code",
      "source": [
        "# save to a csv file\n",
        "volume_df.to_csv('tweets_volume.csv', encoding='utf-8', index=False)"
      ],
      "metadata": {
        "id": "7LCWQPRIsCsS"
      },
      "execution_count": 10,
      "outputs": []
    },
    {
      "cell_type": "code",
      "source": [
        "volume_df = pd.read_csv('tweets_volume.csv')\n",
        "volume_df.head()"
      ],
      "metadata": {
        "id": "q7adxdrhSqf2",
        "colab": {
          "base_uri": "https://localhost:8080/",
          "height": 206
        },
        "outputId": "299b2f13-86a5-46fc-d99c-22781ed09374"
      },
      "execution_count": 11,
      "outputs": [
        {
          "output_type": "execute_result",
          "data": {
            "text/plain": [
              "                        end                     start  tweet_count\n",
              "0  2022-07-02T00:00:00.000Z  2022-07-01T00:00:00.000Z        93609\n",
              "1  2022-07-03T00:00:00.000Z  2022-07-02T00:00:00.000Z        83643\n",
              "2  2022-07-04T00:00:00.000Z  2022-07-03T00:00:00.000Z        80860\n",
              "3  2022-07-05T00:00:00.000Z  2022-07-04T00:00:00.000Z       100957\n",
              "4  2022-07-06T00:00:00.000Z  2022-07-05T00:00:00.000Z       117632"
            ],
            "text/html": [
              "\n",
              "  <div id=\"df-f10d60fc-e2d7-4471-82aa-c7cc1b7be257\">\n",
              "    <div class=\"colab-df-container\">\n",
              "      <div>\n",
              "<style scoped>\n",
              "    .dataframe tbody tr th:only-of-type {\n",
              "        vertical-align: middle;\n",
              "    }\n",
              "\n",
              "    .dataframe tbody tr th {\n",
              "        vertical-align: top;\n",
              "    }\n",
              "\n",
              "    .dataframe thead th {\n",
              "        text-align: right;\n",
              "    }\n",
              "</style>\n",
              "<table border=\"1\" class=\"dataframe\">\n",
              "  <thead>\n",
              "    <tr style=\"text-align: right;\">\n",
              "      <th></th>\n",
              "      <th>end</th>\n",
              "      <th>start</th>\n",
              "      <th>tweet_count</th>\n",
              "    </tr>\n",
              "  </thead>\n",
              "  <tbody>\n",
              "    <tr>\n",
              "      <th>0</th>\n",
              "      <td>2022-07-02T00:00:00.000Z</td>\n",
              "      <td>2022-07-01T00:00:00.000Z</td>\n",
              "      <td>93609</td>\n",
              "    </tr>\n",
              "    <tr>\n",
              "      <th>1</th>\n",
              "      <td>2022-07-03T00:00:00.000Z</td>\n",
              "      <td>2022-07-02T00:00:00.000Z</td>\n",
              "      <td>83643</td>\n",
              "    </tr>\n",
              "    <tr>\n",
              "      <th>2</th>\n",
              "      <td>2022-07-04T00:00:00.000Z</td>\n",
              "      <td>2022-07-03T00:00:00.000Z</td>\n",
              "      <td>80860</td>\n",
              "    </tr>\n",
              "    <tr>\n",
              "      <th>3</th>\n",
              "      <td>2022-07-05T00:00:00.000Z</td>\n",
              "      <td>2022-07-04T00:00:00.000Z</td>\n",
              "      <td>100957</td>\n",
              "    </tr>\n",
              "    <tr>\n",
              "      <th>4</th>\n",
              "      <td>2022-07-06T00:00:00.000Z</td>\n",
              "      <td>2022-07-05T00:00:00.000Z</td>\n",
              "      <td>117632</td>\n",
              "    </tr>\n",
              "  </tbody>\n",
              "</table>\n",
              "</div>\n",
              "      <button class=\"colab-df-convert\" onclick=\"convertToInteractive('df-f10d60fc-e2d7-4471-82aa-c7cc1b7be257')\"\n",
              "              title=\"Convert this dataframe to an interactive table.\"\n",
              "              style=\"display:none;\">\n",
              "        \n",
              "  <svg xmlns=\"http://www.w3.org/2000/svg\" height=\"24px\"viewBox=\"0 0 24 24\"\n",
              "       width=\"24px\">\n",
              "    <path d=\"M0 0h24v24H0V0z\" fill=\"none\"/>\n",
              "    <path d=\"M18.56 5.44l.94 2.06.94-2.06 2.06-.94-2.06-.94-.94-2.06-.94 2.06-2.06.94zm-11 1L8.5 8.5l.94-2.06 2.06-.94-2.06-.94L8.5 2.5l-.94 2.06-2.06.94zm10 10l.94 2.06.94-2.06 2.06-.94-2.06-.94-.94-2.06-.94 2.06-2.06.94z\"/><path d=\"M17.41 7.96l-1.37-1.37c-.4-.4-.92-.59-1.43-.59-.52 0-1.04.2-1.43.59L10.3 9.45l-7.72 7.72c-.78.78-.78 2.05 0 2.83L4 21.41c.39.39.9.59 1.41.59.51 0 1.02-.2 1.41-.59l7.78-7.78 2.81-2.81c.8-.78.8-2.07 0-2.86zM5.41 20L4 18.59l7.72-7.72 1.47 1.35L5.41 20z\"/>\n",
              "  </svg>\n",
              "      </button>\n",
              "      \n",
              "  <style>\n",
              "    .colab-df-container {\n",
              "      display:flex;\n",
              "      flex-wrap:wrap;\n",
              "      gap: 12px;\n",
              "    }\n",
              "\n",
              "    .colab-df-convert {\n",
              "      background-color: #E8F0FE;\n",
              "      border: none;\n",
              "      border-radius: 50%;\n",
              "      cursor: pointer;\n",
              "      display: none;\n",
              "      fill: #1967D2;\n",
              "      height: 32px;\n",
              "      padding: 0 0 0 0;\n",
              "      width: 32px;\n",
              "    }\n",
              "\n",
              "    .colab-df-convert:hover {\n",
              "      background-color: #E2EBFA;\n",
              "      box-shadow: 0px 1px 2px rgba(60, 64, 67, 0.3), 0px 1px 3px 1px rgba(60, 64, 67, 0.15);\n",
              "      fill: #174EA6;\n",
              "    }\n",
              "\n",
              "    [theme=dark] .colab-df-convert {\n",
              "      background-color: #3B4455;\n",
              "      fill: #D2E3FC;\n",
              "    }\n",
              "\n",
              "    [theme=dark] .colab-df-convert:hover {\n",
              "      background-color: #434B5C;\n",
              "      box-shadow: 0px 1px 3px 1px rgba(0, 0, 0, 0.15);\n",
              "      filter: drop-shadow(0px 1px 2px rgba(0, 0, 0, 0.3));\n",
              "      fill: #FFFFFF;\n",
              "    }\n",
              "  </style>\n",
              "\n",
              "      <script>\n",
              "        const buttonEl =\n",
              "          document.querySelector('#df-f10d60fc-e2d7-4471-82aa-c7cc1b7be257 button.colab-df-convert');\n",
              "        buttonEl.style.display =\n",
              "          google.colab.kernel.accessAllowed ? 'block' : 'none';\n",
              "\n",
              "        async function convertToInteractive(key) {\n",
              "          const element = document.querySelector('#df-f10d60fc-e2d7-4471-82aa-c7cc1b7be257');\n",
              "          const dataTable =\n",
              "            await google.colab.kernel.invokeFunction('convertToInteractive',\n",
              "                                                     [key], {});\n",
              "          if (!dataTable) return;\n",
              "\n",
              "          const docLinkHtml = 'Like what you see? Visit the ' +\n",
              "            '<a target=\"_blank\" href=https://colab.research.google.com/notebooks/data_table.ipynb>data table notebook</a>'\n",
              "            + ' to learn more about interactive tables.';\n",
              "          element.innerHTML = '';\n",
              "          dataTable['output_type'] = 'display_data';\n",
              "          await google.colab.output.renderOutput(dataTable, element);\n",
              "          const docLink = document.createElement('div');\n",
              "          docLink.innerHTML = docLinkHtml;\n",
              "          element.appendChild(docLink);\n",
              "        }\n",
              "      </script>\n",
              "    </div>\n",
              "  </div>\n",
              "  "
            ]
          },
          "metadata": {},
          "execution_count": 11
        }
      ]
    },
    {
      "cell_type": "code",
      "source": [
        "plt = volume_df.plot()\n",
        "plt.set_xlabel(\"Day\")\n",
        "plt.set_ylabel(\"Tweet Count\")"
      ],
      "metadata": {
        "colab": {
          "base_uri": "https://localhost:8080/",
          "height": 296
        },
        "id": "H0wiE5lHgWUU",
        "outputId": "ab38dbfe-9954-4045-b7fa-100a0977c146"
      },
      "execution_count": 12,
      "outputs": [
        {
          "output_type": "execute_result",
          "data": {
            "text/plain": [
              "Text(0, 0.5, 'Tweet Count')"
            ]
          },
          "metadata": {},
          "execution_count": 12
        },
        {
          "output_type": "display_data",
          "data": {
            "text/plain": [
              "<Figure size 432x288 with 1 Axes>"
            ],
            "image/png": "[encoded data removed]"
          },
          "metadata": {
            "needs_background": "light"
          }
        }
      ]
    },
    {
      "cell_type": "code",
      "source": [],
      "metadata": {
        "id": "rSSP0IHphi1m"
      },
      "execution_count": 12,
      "outputs": []
    },
    {
      "cell_type": "markdown",
      "source": [],
      "metadata": {
        "id": "f5A2yMOAUplO"
      }
    },
    {
      "cell_type": "code",
      "source": [
        "start_list =    ['2022-03-01T00:00:00.000Z',\n",
        "                 '2022-04-01T00:00:00.000Z',\n",
        "                 '2022-05-01T00:00:00.000Z',\n",
        "                 '2022-06-01T00:00:00.000Z',\n",
        "                 '2022-07-01T00:00:00.000Z']\n",
        "\n",
        "end_list =      ['2022-03-31T00:00:00.000Z',\n",
        "                 '2022-04-30T00:00:00.000Z',\n",
        "                 '2022-05-31T00:00:00.000Z',\n",
        "                 '2022-06-30T00:00:00.000Z',\n",
        "                 '2022-07-31T00:00:00.000Z']\n",
        "\n",
        "                 "
      ],
      "metadata": {
        "id": "CaSedcEdUtPW"
      },
      "execution_count": 13,
      "outputs": []
    },
    {
      "cell_type": "markdown",
      "source": [
        "### Historical Ethereum Prices from March to July 2022\n",
        "Downloaded from Yahoo Finance."
      ],
      "metadata": {
        "id": "JMRVBGWcxV3d"
      }
    },
    {
      "cell_type": "code",
      "source": [
        "ethereum_data = pd.read_csv(\"ETH-USD.csv\")"
      ],
      "metadata": {
        "id": "yOMfIcYXxbB4"
      },
      "execution_count": 16,
      "outputs": []
    },
    {
      "cell_type": "code",
      "source": [
        "ethereum_data.info()"
      ],
      "metadata": {
        "id": "iQjTakHDxi3u",
        "colab": {
          "base_uri": "https://localhost:8080/"
        },
        "outputId": "a9e3b9fb-b5b3-4fdf-b890-1241b55eac70"
      },
      "execution_count": 17,
      "outputs": [
        {
          "output_type": "stream",
          "name": "stdout",
          "text": [
            "<class 'pandas.core.frame.DataFrame'>\n",
            "RangeIndex: 153 entries, 0 to 152\n",
            "Data columns (total 7 columns):\n",
            " #   Column     Non-Null Count  Dtype  \n",
            "---  ------     --------------  -----  \n",
            " 0   Date       153 non-null    object \n",
            " 1   Open       153 non-null    float64\n",
            " 2   High       153 non-null    float64\n",
            " 3   Low        153 non-null    float64\n",
            " 4   Close      153 non-null    float64\n",
            " 5   Adj Close  153 non-null    float64\n",
            " 6   Volume     153 non-null    int64  \n",
            "dtypes: float64(5), int64(1), object(1)\n",
            "memory usage: 8.5+ KB\n"
          ]
        }
      ]
    },
    {
      "cell_type": "code",
      "source": [
        "volume_df.info()"
      ],
      "metadata": {
        "id": "3hsk5ozazitk"
      },
      "execution_count": null,
      "outputs": []
    },
    {
      "cell_type": "markdown",
      "source": [
        "t = dateutil.parser.parse(tweet['created_at'])"
      ],
      "metadata": {
        "id": "r5SbDsTg35gY"
      }
    },
    {
      "cell_type": "code",
      "source": [
        "import dateutil\n",
        "\n",
        "t = dateutil.parser.parse(\"2022-07-31T00:00:00.000Z\")"
      ],
      "metadata": {
        "id": "KIuL5jqq34sH"
      },
      "execution_count": null,
      "outputs": []
    },
    {
      "cell_type": "markdown",
      "source": [
        "### Retrieving Tweets on \"Ethereum\""
      ],
      "metadata": {
        "id": "SYOzOaYJFiFp"
      }
    },
    {
      "cell_type": "markdown",
      "source": [
        "#### VADER - NLTK's pretrained sentiment Analyzer"
      ],
      "metadata": {
        "id": "VEqOar7rEdHV"
      }
    },
    {
      "cell_type": "code",
      "source": [
        "# sentiment scores\n",
        "def sentiment_scores(str_tweets):\n",
        "  from nltk.sentiment import SentimentIntensityAnalyzer\n",
        "\n",
        "  polarity_scores = []\n",
        "  sia = SentimentIntensityAnalyzer()\n",
        "  for s in str_tweets:\n",
        "    polarity_scores.append(sia.polarity_scores(s))\n",
        "\n",
        "  return polarity_scores"
      ],
      "metadata": {
        "id": "QNP7GJh7lwlK"
      },
      "execution_count": null,
      "outputs": []
    },
    {
      "cell_type": "markdown",
      "source": [
        "#### Function to Clean Data"
      ],
      "metadata": {
        "id": "hSGOoiBFEHPc"
      }
    },
    {
      "cell_type": "code",
      "source": [
        "import re, string\n",
        "from nltk.tag import pos_tag\n",
        "from nltk.stem.wordnet import WordNetLemmatizer\n",
        "\n",
        "def remove_noise(tweets):\n",
        "  # remove links\n",
        "  import re\n",
        "  tweets = [re.sub('http[s]?://(?:[a-zA-Z]|[0-9]|[$-_@.&+#]|[!*\\(\\),]|(?:%[0-9a-fA-F][0-9a-fA-F]))+', '', tweet) for tweet in tweets]\n",
        "\n",
        "  # removing handles\n",
        "  tweets = [re.sub('(@[A-Za-z0-9_]+)', '', tweet) for tweet in tweets]\n",
        "  \n",
        "  return tweets\n",
        "\n",
        "\n",
        "# function to tokenize tweets\n",
        "def tokenize_tweets(tweets):\n",
        "  from nltk.tokenize import word_tokenize\n",
        "  tokenized_tweets = []\n",
        "\n",
        "  for tweet in tweets:\n",
        "    tokenized_tweets.append(word_tokenize(tweet))\n",
        "\n",
        "  return tokenized_tweets\n",
        "\n",
        "\n",
        "# main cleaning function\n",
        "def clean_data(tweet_tokens, stop_words=()):\n",
        "  \"\"\"\n",
        "    Cleans twitter text.\n",
        "      - filtering noise (hyperlinks, @)\n",
        "      - Part of speech Tagging\n",
        "      - Lemmatization\n",
        "      - filtering stop_words\n",
        "\n",
        "  \"\"\"\n",
        "  cleaned_tokens = []\n",
        "\n",
        "\n",
        "  # part of speech tagging\n",
        "  pos = pos_tag(tweet_tokens)\n",
        "\n",
        "  for token, tag in pos:\n",
        "\n",
        "    # removing links\n",
        "    token = re.sub('http[s]?://(?:[a-zA-Z]|[0-9]|[$-_@.&+#]|[!*\\(\\),]|'\\\n",
        "                       '(?:%[0-9a-fA-F][0-9a-fA-F]))+','', token)\n",
        "    \n",
        "    \n",
        "    # removing handles\n",
        "    token = re.sub(\"(@[A-Za-z0-9_]+)\",\"\", token)\n",
        "\n",
        "    # lemmatization\n",
        "\n",
        "    if tag.startswith('NN'):\n",
        "      pos = 'n'\n",
        "    elif tag.startswith('VB'):\n",
        "      pos = 'v'\n",
        "    else:\n",
        "      pos = 'a'\n",
        "\n",
        "    # lemmatizer = WordNetLemmatizer()\n",
        "    # token = lemmatizer.lemmatize(token, pos)\n",
        "\n",
        "    # filter stop words and punctuations\n",
        "    if len(token) > 0 and token not in string.punctuation:\n",
        "      cleaned_tokens.append(token.lower())\n",
        "\n",
        "  return cleaned_tokens"
      ],
      "metadata": {
        "id": "nNCrZd_3d4xT"
      },
      "execution_count": null,
      "outputs": []
    },
    {
      "cell_type": "markdown",
      "source": [
        "#### Pipeline for processing tweets from the API"
      ],
      "metadata": {
        "id": "mcxeC31aEPBT"
      }
    },
    {
      "cell_type": "code",
      "source": [
        "def compound_sentiment(date, tweets):\n",
        "\n",
        "  # print(tweets[4]) \n",
        "\n",
        "  # remove links\n",
        "  tweets_no_links = remove_noise(tweets)\n",
        "  # print(tweets_no_links[4]) \n",
        "\n",
        "  # word tokenize tweets\n",
        "  t_ = tokenize_tweets(tweets_no_links)\n",
        "  # print(t_[4]) \n",
        "\n",
        "  # clean tweets\n",
        "  cleaned_tweets = [clean_data(tweet) for tweet in t_]\n",
        "  # print(cleaned_tweets[4])\n",
        "\n",
        "  # join cleaned tokens \n",
        "  tweets_string = [\" \".join(c_t) for c_t in cleaned_tweets]\n",
        "  # print(tweets_string[4])\n",
        "\n",
        "  # check polarity\n",
        "  polarity_scores = sentiment_scores(tweets_string)\n",
        "  # print(polarity_scores[4])\n",
        "  # print(polarity_scores)\n",
        "\n",
        "  # average compound sentiment\n",
        "  num_tweets = len(tweets)\n",
        "  total_compound = 0\n",
        "  for score in polarity_scores:\n",
        "    total_compound += score['compound']\n",
        "  average_compound_sentiment =  total_compound / num_tweets\n",
        "\n",
        "  # return dictionary\n",
        "  return {\"Date\": date, \"Compound Sentiment\": average_compound_sentiment}\n",
        "\n",
        "  \n",
        "  "
      ],
      "metadata": {
        "id": "621gyArSonfH"
      },
      "execution_count": null,
      "outputs": []
    },
    {
      "cell_type": "markdown",
      "source": [
        "#### Retrieving Twitter Data on Ethereum from March 2022 to July 2022"
      ],
      "metadata": {
        "id": "5kFl6uRDDnqQ"
      }
    },
    {
      "cell_type": "code",
      "source": [
        "def custom_pipe(dates):\n",
        "  headers = create_headers(bearer_token)\n",
        "  keyword = \"ethereum lang:en -is:retweet -has:hashtags\"\n",
        "  max_results = 500\n",
        "\n",
        "  # track number of tweets\n",
        "  tweet_count = 0\n",
        "\n",
        "  # a list of dictionaries {Day, Sentiment}\n",
        "  sentiment_data = []\n",
        "\n",
        "  for i in range(len(dates)):\n",
        "    if i == len(dates) - 1:\n",
        "      break\n",
        "\n",
        "    # set start and end time\n",
        "    start_time = dates[i]\n",
        "    end_time = dates[i + 1]\n",
        "\n",
        "    # make request\n",
        "    url = create_search_url(keyword, start_time,end_time, max_results)\n",
        "    json_response = connect_to_endpoint(url[0], headers, url[1])\n",
        "    data = json_response['data']\n",
        "    for j in range(2):\n",
        "      try:\n",
        "        next_token = json_response['meta']['next_token']\n",
        "        json_response = connect_to_endpoint(url[0], headers, url[1], next_token)\n",
        "        data += json_response['data']\n",
        "        # wait a min\n",
        "        time.sleep(10)\n",
        "      except KeyError:\n",
        "        break\n",
        "      \n",
        "      \n",
        "\n",
        "    # put all tweets for that range in a list\n",
        "    tweets_in_range = [i['text'] for i in data]\n",
        "    \n",
        "    # update count\n",
        "    tweet_count += len(tweets_in_range)\n",
        "\n",
        "    # perform sentiment analysis\n",
        "    day_data = compound_sentiment(start_time, tweets_in_range)\n",
        "\n",
        "    # add to sentiment data\n",
        "    sentiment_data.append(day_data)\n",
        "\n",
        "  return {\"count\": tweet_count, 'data': sentiment_data}\n"
      ],
      "metadata": {
        "id": "SwlZywmYAMkj"
      },
      "execution_count": null,
      "outputs": []
    },
    {
      "cell_type": "code",
      "source": [
        "# import time\n",
        "# months = [march, april, may, june, july]\n",
        "\n",
        "# tweet_count = 0\n",
        "# all_data = []\n",
        "\n",
        "# for month in months:\n",
        "#   data = custom_pipe(month)\n",
        "#   all_data += data['data']\n",
        "\n",
        "#   tweet_count += data['count']\n",
        "\n",
        "#   # wait a min\n",
        "#   time.sleep(61)\n"
      ],
      "metadata": {
        "id": "IGINeS6NGq56"
      },
      "execution_count": null,
      "outputs": []
    },
    {
      "cell_type": "markdown",
      "source": [
        "45190 + 26510 = No of tweets"
      ],
      "metadata": {
        "id": "EsAXbsLgPwAb"
      }
    },
    {
      "cell_type": "markdown",
      "source": [
        "Convert data to a DataFrame"
      ],
      "metadata": {
        "id": "HSy9D4-nTHiA"
      }
    },
    {
      "cell_type": "code",
      "source": [
        "data_df = pd.DataFrame(all_data)\n",
        "data_df.head()"
      ],
      "metadata": {
        "id": "e6lSh952N89D"
      },
      "execution_count": null,
      "outputs": []
    },
    {
      "cell_type": "code",
      "source": [
        "# save to csv\n",
        "data_df.to_csv('daily_sentiment.csv', encoding='utf-8', index=False)"
      ],
      "metadata": {
        "id": "6vndSFjeQezu"
      },
      "execution_count": null,
      "outputs": []
    },
    {
      "cell_type": "markdown",
      "source": [
        "##### Dates"
      ],
      "metadata": {
        "id": "NcB21oZcJ_W4"
      }
    },
    {
      "cell_type": "code",
      "source": [
        "march = [\n",
        "    \"2022-03-01T00:00:00.000Z\",\n",
        "    \"2022-03-02T00:00:00.000Z\",\n",
        "    \"2022-03-03T00:00:00.000Z\",\n",
        "    \"2022-03-04T00:00:00.000Z\",\n",
        "    \"2022-03-05T00:00:00.000Z\",\n",
        "    \"2022-03-06T00:00:00.000Z\",\n",
        "    \"2022-03-07T00:00:00.000Z\",\n",
        "    \"2022-03-08T00:00:00.000Z\",\n",
        "    \"2022-03-09T00:00:00.000Z\",\n",
        "    \"2022-03-10T00:00:00.000Z\",\n",
        "    \"2022-03-11T00:00:00.000Z\",\n",
        "    \"2022-03-12T00:00:00.000Z\",\n",
        "    \"2022-03-13T00:00:00.000Z\",\n",
        "    \"2022-03-14T00:00:00.000Z\",\n",
        "    \"2022-03-15T00:00:00.000Z\",\n",
        "    \"2022-03-16T00:00:00.000Z\",\n",
        "    \"2022-03-17T00:00:00.000Z\",\n",
        "    \"2022-03-18T00:00:00.000Z\",\n",
        "    \"2022-03-19T00:00:00.000Z\",\n",
        "    \"2022-03-20T00:00:00.000Z\",\n",
        "    \"2022-03-21T00:00:00.000Z\",\n",
        "    \"2022-03-22T00:00:00.000Z\",\n",
        "    \"2022-03-23T00:00:00.000Z\",\n",
        "    \"2022-03-24T00:00:00.000Z\",\n",
        "    \"2022-03-25T00:00:00.000Z\",\n",
        "    \"2022-03-26T00:00:00.000Z\",\n",
        "    \"2022-03-27T00:00:00.000Z\",\n",
        "    \"2022-03-28T00:00:00.000Z\",\n",
        "    \"2022-03-29T00:00:00.000Z\",\n",
        "    \"2022-03-30T00:00:00.000Z\",\n",
        "    \"2022-03-31T00:00:00.000Z\",\n",
        "    \"2022-04-01T00:00:00.000Z\",\n",
        "]\n",
        "\n",
        "\n",
        "april = [\n",
        "    \"2022-04-01T00:00:00.000Z\",\n",
        "    \"2022-04-02T00:00:00.000Z\",\n",
        "    \"2022-04-03T00:00:00.000Z\",\n",
        "    \"2022-04-04T00:00:00.000Z\",\n",
        "    \"2022-04-05T00:00:00.000Z\",\n",
        "    \"2022-04-06T00:00:00.000Z\",\n",
        "    \"2022-04-07T00:00:00.000Z\",\n",
        "    \"2022-04-08T00:00:00.000Z\",\n",
        "    \"2022-04-09T00:00:00.000Z\",\n",
        "    \"2022-04-10T00:00:00.000Z\",\n",
        "    \"2022-04-11T00:00:00.000Z\",\n",
        "    \"2022-04-12T00:00:00.000Z\",\n",
        "    \"2022-04-13T00:00:00.000Z\",\n",
        "    \"2022-04-14T00:00:00.000Z\",\n",
        "    \"2022-04-15T00:00:00.000Z\",\n",
        "    \"2022-04-16T00:00:00.000Z\",\n",
        "    \"2022-04-17T00:00:00.000Z\",\n",
        "    \"2022-04-18T00:00:00.000Z\",\n",
        "    \"2022-04-19T00:00:00.000Z\",\n",
        "    \"2022-04-20T00:00:00.000Z\",\n",
        "    \"2022-04-21T00:00:00.000Z\",\n",
        "    \"2022-04-22T00:00:00.000Z\",\n",
        "    \"2022-04-23T00:00:00.000Z\",\n",
        "    \"2022-04-24T00:00:00.000Z\",\n",
        "    \"2022-04-25T00:00:00.000Z\",\n",
        "    \"2022-04-26T00:00:00.000Z\",\n",
        "    \"2022-04-27T00:00:00.000Z\",\n",
        "    \"2022-04-28T00:00:00.000Z\",\n",
        "    \"2022-04-29T00:00:00.000Z\",\n",
        "    \"2022-04-30T00:00:00.000Z\",\n",
        "    \"2022-05-01T00:00:00.000Z\",\n",
        "]\n",
        "\n",
        "\n",
        "\n",
        "may = [\n",
        "    \"2022-05-01T00:00:00.000Z\",\n",
        "    \"2022-05-02T00:00:00.000Z\",\n",
        "    \"2022-05-03T00:00:00.000Z\",\n",
        "    \"2022-05-04T00:00:00.000Z\",\n",
        "    \"2022-05-05T00:00:00.000Z\",\n",
        "    \"2022-05-06T00:00:00.000Z\",\n",
        "    \"2022-05-07T00:00:00.000Z\",\n",
        "    \"2022-05-08T00:00:00.000Z\",\n",
        "    \"2022-05-09T00:00:00.000Z\",\n",
        "    \"2022-05-10T00:00:00.000Z\",\n",
        "    \"2022-05-11T00:00:00.000Z\",\n",
        "    \"2022-05-12T00:00:00.000Z\",\n",
        "    \"2022-05-13T00:00:00.000Z\",\n",
        "    \"2022-05-14T00:00:00.000Z\",\n",
        "    \"2022-05-15T00:00:00.000Z\",\n",
        "    \"2022-05-16T00:00:00.000Z\",\n",
        "    \"2022-05-17T00:00:00.000Z\",\n",
        "    \"2022-05-18T00:00:00.000Z\",\n",
        "    \"2022-05-19T00:00:00.000Z\",\n",
        "    \"2022-05-20T00:00:00.000Z\",\n",
        "    \"2022-05-21T00:00:00.000Z\",\n",
        "    \"2022-05-22T00:00:00.000Z\",\n",
        "    \"2022-05-23T00:00:00.000Z\",\n",
        "    \"2022-05-24T00:00:00.000Z\",\n",
        "    \"2022-05-25T00:00:00.000Z\",\n",
        "    \"2022-05-26T00:00:00.000Z\",\n",
        "    \"2022-05-27T00:00:00.000Z\",\n",
        "    \"2022-05-28T00:00:00.000Z\",\n",
        "    \"2022-05-29T00:00:00.000Z\",\n",
        "    \"2022-05-30T00:00:00.000Z\",\n",
        "    \"2022-05-31T00:00:00.000Z\",\n",
        "    \"2022-06-01T00:00:00.000Z\",\n",
        "]\n",
        "\n",
        "\n",
        "\n",
        "june = [\n",
        "    \"2022-06-01T00:00:00.000Z\",\n",
        "    \"2022-06-02T00:00:00.000Z\",\n",
        "    \"2022-06-03T00:00:00.000Z\",\n",
        "    \"2022-06-04T00:00:00.000Z\",\n",
        "    \"2022-06-05T00:00:00.000Z\",\n",
        "    \"2022-06-06T00:00:00.000Z\",\n",
        "    \"2022-06-07T00:00:00.000Z\",\n",
        "    \"2022-06-08T00:00:00.000Z\",\n",
        "    \"2022-06-09T00:00:00.000Z\",\n",
        "    \"2022-06-10T00:00:00.000Z\",\n",
        "    \"2022-06-11T00:00:00.000Z\",\n",
        "    \"2022-06-12T00:00:00.000Z\",\n",
        "    \"2022-06-13T00:00:00.000Z\",\n",
        "    \"2022-06-14T00:00:00.000Z\",\n",
        "    \"2022-06-15T00:00:00.000Z\",\n",
        "    \"2022-06-16T00:00:00.000Z\",\n",
        "    \"2022-06-17T00:00:00.000Z\",\n",
        "    \"2022-06-18T00:00:00.000Z\",\n",
        "    \"2022-06-19T00:00:00.000Z\",\n",
        "    \"2022-06-20T00:00:00.000Z\",\n",
        "    \"2022-06-21T00:00:00.000Z\",\n",
        "    \"2022-06-22T00:00:00.000Z\",\n",
        "    \"2022-06-23T00:00:00.000Z\",\n",
        "    \"2022-06-24T00:00:00.000Z\",\n",
        "    \"2022-06-25T00:00:00.000Z\",\n",
        "    \"2022-06-26T00:00:00.000Z\",\n",
        "    \"2022-06-27T00:00:00.000Z\",\n",
        "    \"2022-06-28T00:00:00.000Z\",\n",
        "    \"2022-06-29T00:00:00.000Z\",\n",
        "    \"2022-06-30T00:00:00.000Z\",\n",
        "    \"2022-07-01T00:00:00.000Z\",\n",
        "]\n",
        "\n",
        "\n",
        "\n",
        "july = [\n",
        "    \"2022-07-01T00:00:00.000Z\",\n",
        "    \"2022-07-02T00:00:00.000Z\",\n",
        "    \"2022-07-03T00:00:00.000Z\",\n",
        "    \"2022-07-04T00:00:00.000Z\",\n",
        "    \"2022-07-05T00:00:00.000Z\",\n",
        "    \"2022-07-06T00:00:00.000Z\",\n",
        "    \"2022-07-07T00:00:00.000Z\",\n",
        "    \"2022-07-08T00:00:00.000Z\",\n",
        "    \"2022-07-09T00:00:00.000Z\",\n",
        "    \"2022-07-10T00:00:00.000Z\",\n",
        "    \"2022-07-11T00:00:00.000Z\",\n",
        "    \"2022-07-12T00:00:00.000Z\",\n",
        "    \"2022-07-13T00:00:00.000Z\",\n",
        "    \"2022-07-14T00:00:00.000Z\",\n",
        "    \"2022-07-15T00:00:00.000Z\",\n",
        "    \"2022-07-16T00:00:00.000Z\",\n",
        "    \"2022-07-17T00:00:00.000Z\",\n",
        "    \"2022-07-18T00:00:00.000Z\",\n",
        "    \"2022-07-19T00:00:00.000Z\",\n",
        "    \"2022-07-20T00:00:00.000Z\",\n",
        "    \"2022-07-21T00:00:00.000Z\",\n",
        "    \"2022-07-22T00:00:00.000Z\",\n",
        "    \"2022-07-23T00:00:00.000Z\",\n",
        "    \"2022-07-24T00:00:00.000Z\",\n",
        "    \"2022-07-25T00:00:00.000Z\",\n",
        "    \"2022-07-26T00:00:00.000Z\",\n",
        "    \"2022-07-27T00:00:00.000Z\",\n",
        "    \"2022-07-28T00:00:00.000Z\",\n",
        "    \"2022-07-29T00:00:00.000Z\",\n",
        "    \"2022-07-30T00:00:00.000Z\",\n",
        "    \"2022-07-31T00:00:00.000Z\",\n",
        "    \"2022-08-01T00:00:00.000Z\",\n",
        "]\n",
        "\n",
        "total = len(march) + len(april) + len(may) + len(june) + len(july)"
      ],
      "metadata": {
        "id": "Xrxx_luEH4J0"
      },
      "execution_count": null,
      "outputs": []
    },
    {
      "cell_type": "code",
      "source": [],
      "metadata": {
        "id": "eAr3Jrd7I-0v"
      },
      "execution_count": null,
      "outputs": []
    },
    {
      "cell_type": "markdown",
      "source": [
        "### Trends from Google"
      ],
      "metadata": {
        "id": "NobZTrSrrW5e"
      }
    },
    {
      "cell_type": "code",
      "source": [
        "eth_trends = pd.read_csv(\"eth-trend.csv\")"
      ],
      "metadata": {
        "id": "k78h_J22rrHB"
      },
      "execution_count": null,
      "outputs": []
    },
    {
      "cell_type": "code",
      "source": [
        "eth_trends.head()"
      ],
      "metadata": {
        "id": "a7haBCMsxu9f"
      },
      "execution_count": null,
      "outputs": []
    },
    {
      "cell_type": "markdown",
      "source": [
        "# EDA"
      ],
      "metadata": {
        "id": "65jfvfZ3b3gt"
      }
    },
    {
      "cell_type": "markdown",
      "source": [
        "## Numerical EDA"
      ],
      "metadata": {
        "id": "TmBamM9UlmsB"
      }
    },
    {
      "cell_type": "code",
      "source": [
        "eth_df = pd.read_csv(\"ETH-USD.csv\")\n",
        "volume_df = pd.read_csv('tweets_volume.csv')\n",
        "daily_sentiment = pd.read_csv(\"daily_sentiment.csv\")\n",
        "eth_trends = pd.read_csv(\"eth-trend.csv\")"
      ],
      "metadata": {
        "id": "ps7IOSo9b5zO"
      },
      "execution_count": 63,
      "outputs": []
    },
    {
      "cell_type": "code",
      "source": [
        "print(eth_df.info())"
      ],
      "metadata": {
        "colab": {
          "base_uri": "https://localhost:8080/"
        },
        "id": "Dj7cvz9BcRUW",
        "outputId": "e58afc92-7eb9-4ad4-db37-85e7f62c327e"
      },
      "execution_count": 126,
      "outputs": [
        {
          "output_type": "stream",
          "name": "stdout",
          "text": [
            "<class 'pandas.core.frame.DataFrame'>\n",
            "RangeIndex: 153 entries, 0 to 152\n",
            "Data columns (total 7 columns):\n",
            " #   Column     Non-Null Count  Dtype  \n",
            "---  ------     --------------  -----  \n",
            " 0   Date       153 non-null    object \n",
            " 1   Open       153 non-null    float64\n",
            " 2   High       153 non-null    float64\n",
            " 3   Low        153 non-null    float64\n",
            " 4   Close      153 non-null    float64\n",
            " 5   Adj Close  153 non-null    float64\n",
            " 6   Volume     153 non-null    int64  \n",
            "dtypes: float64(5), int64(1), object(1)\n",
            "memory usage: 8.5+ KB\n",
            "None\n"
          ]
        }
      ]
    },
    {
      "cell_type": "code",
      "source": [
        "print(volume_df.info())"
      ],
      "metadata": {
        "colab": {
          "base_uri": "https://localhost:8080/"
        },
        "id": "2gY3dazIceiu",
        "outputId": "f21008d1-5668-45f0-aa23-9c73abaa81e1"
      },
      "execution_count": 92,
      "outputs": [
        {
          "output_type": "stream",
          "name": "stdout",
          "text": [
            "<class 'pandas.core.frame.DataFrame'>\n",
            "RangeIndex: 153 entries, 0 to 152\n",
            "Data columns (total 3 columns):\n",
            " #   Column       Non-Null Count  Dtype \n",
            "---  ------       --------------  ----- \n",
            " 0   end          153 non-null    object\n",
            " 1   start        153 non-null    object\n",
            " 2   tweet_count  153 non-null    int64 \n",
            "dtypes: int64(1), object(2)\n",
            "memory usage: 3.7+ KB\n",
            "None\n"
          ]
        }
      ]
    },
    {
      "cell_type": "code",
      "source": [
        "print(daily_sentiment.info())"
      ],
      "metadata": {
        "colab": {
          "base_uri": "https://localhost:8080/"
        },
        "id": "tX8VmIevcjfF",
        "outputId": "2dc92bbd-ac71-4fb0-d520-e5f8ceefc314"
      },
      "execution_count": 93,
      "outputs": [
        {
          "output_type": "stream",
          "name": "stdout",
          "text": [
            "<class 'pandas.core.frame.DataFrame'>\n",
            "RangeIndex: 153 entries, 0 to 152\n",
            "Data columns (total 2 columns):\n",
            " #   Column              Non-Null Count  Dtype  \n",
            "---  ------              --------------  -----  \n",
            " 0   Date                153 non-null    object \n",
            " 1   Compound Sentiment  153 non-null    float64\n",
            "dtypes: float64(1), object(1)\n",
            "memory usage: 2.5+ KB\n",
            "None\n"
          ]
        }
      ]
    },
    {
      "cell_type": "code",
      "source": [
        "eth_df.head()"
      ],
      "metadata": {
        "colab": {
          "base_uri": "https://localhost:8080/",
          "height": 206
        },
        "id": "2nSE4_4szO7-",
        "outputId": "ba9c3880-400e-4802-8237-07b01e0d340b"
      },
      "execution_count": 151,
      "outputs": [
        {
          "output_type": "execute_result",
          "data": {
            "text/plain": [
              "         Date         Open         High          Low        Close  \\\n",
              "0  2022-03-01  2919.775879  3029.651611  2868.938965  2972.485107   \n",
              "1  2022-03-02  2972.471924  3026.868164  2919.943115  2950.118408   \n",
              "2  2022-03-03  2950.156738  2964.673340  2797.319336  2834.468994   \n",
              "3  2022-03-04  2834.987305  2835.176270  2587.748291  2617.156006   \n",
              "4  2022-03-05  2618.473633  2679.102539  2596.989990  2664.831055   \n",
              "\n",
              "     Adj Close       Volume  Change  \n",
              "0  2972.485107  18757425786       1  \n",
              "1  2950.118408  16636517503       0  \n",
              "2  2834.468994  13091199728       0  \n",
              "3  2617.156006  14496939024       0  \n",
              "4  2664.831055   8072368396       1  "
            ],
            "text/html": [
              "\n",
              "  <div id=\"df-09b924a0-80a6-4edb-ab8d-a9603bceb765\">\n",
              "    <div class=\"colab-df-container\">\n",
              "      <div>\n",
              "<style scoped>\n",
              "    .dataframe tbody tr th:only-of-type {\n",
              "        vertical-align: middle;\n",
              "    }\n",
              "\n",
              "    .dataframe tbody tr th {\n",
              "        vertical-align: top;\n",
              "    }\n",
              "\n",
              "    .dataframe thead th {\n",
              "        text-align: right;\n",
              "    }\n",
              "</style>\n",
              "<table border=\"1\" class=\"dataframe\">\n",
              "  <thead>\n",
              "    <tr style=\"text-align: right;\">\n",
              "      <th></th>\n",
              "      <th>Date</th>\n",
              "      <th>Open</th>\n",
              "      <th>High</th>\n",
              "      <th>Low</th>\n",
              "      <th>Close</th>\n",
              "      <th>Adj Close</th>\n",
              "      <th>Volume</th>\n",
              "      <th>Change</th>\n",
              "    </tr>\n",
              "  </thead>\n",
              "  <tbody>\n",
              "    <tr>\n",
              "      <th>0</th>\n",
              "      <td>2022-03-01</td>\n",
              "      <td>2919.775879</td>\n",
              "      <td>3029.651611</td>\n",
              "      <td>2868.938965</td>\n",
              "      <td>2972.485107</td>\n",
              "      <td>2972.485107</td>\n",
              "      <td>18757425786</td>\n",
              "      <td>1</td>\n",
              "    </tr>\n",
              "    <tr>\n",
              "      <th>1</th>\n",
              "      <td>2022-03-02</td>\n",
              "      <td>2972.471924</td>\n",
              "      <td>3026.868164</td>\n",
              "      <td>2919.943115</td>\n",
              "      <td>2950.118408</td>\n",
              "      <td>2950.118408</td>\n",
              "      <td>16636517503</td>\n",
              "      <td>0</td>\n",
              "    </tr>\n",
              "    <tr>\n",
              "      <th>2</th>\n",
              "      <td>2022-03-03</td>\n",
              "      <td>2950.156738</td>\n",
              "      <td>2964.673340</td>\n",
              "      <td>2797.319336</td>\n",
              "      <td>2834.468994</td>\n",
              "      <td>2834.468994</td>\n",
              "      <td>13091199728</td>\n",
              "      <td>0</td>\n",
              "    </tr>\n",
              "    <tr>\n",
              "      <th>3</th>\n",
              "      <td>2022-03-04</td>\n",
              "      <td>2834.987305</td>\n",
              "      <td>2835.176270</td>\n",
              "      <td>2587.748291</td>\n",
              "      <td>2617.156006</td>\n",
              "      <td>2617.156006</td>\n",
              "      <td>14496939024</td>\n",
              "      <td>0</td>\n",
              "    </tr>\n",
              "    <tr>\n",
              "      <th>4</th>\n",
              "      <td>2022-03-05</td>\n",
              "      <td>2618.473633</td>\n",
              "      <td>2679.102539</td>\n",
              "      <td>2596.989990</td>\n",
              "      <td>2664.831055</td>\n",
              "      <td>2664.831055</td>\n",
              "      <td>8072368396</td>\n",
              "      <td>1</td>\n",
              "    </tr>\n",
              "  </tbody>\n",
              "</table>\n",
              "</div>\n",
              "      <button class=\"colab-df-convert\" onclick=\"convertToInteractive('df-09b924a0-80a6-4edb-ab8d-a9603bceb765')\"\n",
              "              title=\"Convert this dataframe to an interactive table.\"\n",
              "              style=\"display:none;\">\n",
              "        \n",
              "  <svg xmlns=\"http://www.w3.org/2000/svg\" height=\"24px\"viewBox=\"0 0 24 24\"\n",
              "       width=\"24px\">\n",
              "    <path d=\"M0 0h24v24H0V0z\" fill=\"none\"/>\n",
              "    <path d=\"M18.56 5.44l.94 2.06.94-2.06 2.06-.94-2.06-.94-.94-2.06-.94 2.06-2.06.94zm-11 1L8.5 8.5l.94-2.06 2.06-.94-2.06-.94L8.5 2.5l-.94 2.06-2.06.94zm10 10l.94 2.06.94-2.06 2.06-.94-2.06-.94-.94-2.06-.94 2.06-2.06.94z\"/><path d=\"M17.41 7.96l-1.37-1.37c-.4-.4-.92-.59-1.43-.59-.52 0-1.04.2-1.43.59L10.3 9.45l-7.72 7.72c-.78.78-.78 2.05 0 2.83L4 21.41c.39.39.9.59 1.41.59.51 0 1.02-.2 1.41-.59l7.78-7.78 2.81-2.81c.8-.78.8-2.07 0-2.86zM5.41 20L4 18.59l7.72-7.72 1.47 1.35L5.41 20z\"/>\n",
              "  </svg>\n",
              "      </button>\n",
              "      \n",
              "  <style>\n",
              "    .colab-df-container {\n",
              "      display:flex;\n",
              "      flex-wrap:wrap;\n",
              "      gap: 12px;\n",
              "    }\n",
              "\n",
              "    .colab-df-convert {\n",
              "      background-color: #E8F0FE;\n",
              "      border: none;\n",
              "      border-radius: 50%;\n",
              "      cursor: pointer;\n",
              "      display: none;\n",
              "      fill: #1967D2;\n",
              "      height: 32px;\n",
              "      padding: 0 0 0 0;\n",
              "      width: 32px;\n",
              "    }\n",
              "\n",
              "    .colab-df-convert:hover {\n",
              "      background-color: #E2EBFA;\n",
              "      box-shadow: 0px 1px 2px rgba(60, 64, 67, 0.3), 0px 1px 3px 1px rgba(60, 64, 67, 0.15);\n",
              "      fill: #174EA6;\n",
              "    }\n",
              "\n",
              "    [theme=dark] .colab-df-convert {\n",
              "      background-color: #3B4455;\n",
              "      fill: #D2E3FC;\n",
              "    }\n",
              "\n",
              "    [theme=dark] .colab-df-convert:hover {\n",
              "      background-color: #434B5C;\n",
              "      box-shadow: 0px 1px 3px 1px rgba(0, 0, 0, 0.15);\n",
              "      filter: drop-shadow(0px 1px 2px rgba(0, 0, 0, 0.3));\n",
              "      fill: #FFFFFF;\n",
              "    }\n",
              "  </style>\n",
              "\n",
              "      <script>\n",
              "        const buttonEl =\n",
              "          document.querySelector('#df-09b924a0-80a6-4edb-ab8d-a9603bceb765 button.colab-df-convert');\n",
              "        buttonEl.style.display =\n",
              "          google.colab.kernel.accessAllowed ? 'block' : 'none';\n",
              "\n",
              "        async function convertToInteractive(key) {\n",
              "          const element = document.querySelector('#df-09b924a0-80a6-4edb-ab8d-a9603bceb765');\n",
              "          const dataTable =\n",
              "            await google.colab.kernel.invokeFunction('convertToInteractive',\n",
              "                                                     [key], {});\n",
              "          if (!dataTable) return;\n",
              "\n",
              "          const docLinkHtml = 'Like what you see? Visit the ' +\n",
              "            '<a target=\"_blank\" href=https://colab.research.google.com/notebooks/data_table.ipynb>data table notebook</a>'\n",
              "            + ' to learn more about interactive tables.';\n",
              "          element.innerHTML = '';\n",
              "          dataTable['output_type'] = 'display_data';\n",
              "          await google.colab.output.renderOutput(dataTable, element);\n",
              "          const docLink = document.createElement('div');\n",
              "          docLink.innerHTML = docLinkHtml;\n",
              "          element.appendChild(docLink);\n",
              "        }\n",
              "      </script>\n",
              "    </div>\n",
              "  </div>\n",
              "  "
            ]
          },
          "metadata": {},
          "execution_count": 151
        }
      ]
    },
    {
      "cell_type": "markdown",
      "source": [
        "#### Creating Our Labels"
      ],
      "metadata": {
        "id": "jsQcxKYLWCRT"
      }
    },
    {
      "cell_type": "code",
      "source": [
        "def f(row):\n",
        "    change = ((row['Close'] - row[\"Open\"]) / row['Open']) * 100\n",
        "    if change > 0:\n",
        "      val = 1\n",
        "    else:\n",
        "      val = 0\n",
        "    return val\n",
        "\n",
        "eth_df[\"Change\"] = eth_df.apply(f, axis=1)"
      ],
      "metadata": {
        "id": "UqndRo0ERZeX"
      },
      "execution_count": 64,
      "outputs": []
    },
    {
      "cell_type": "code",
      "source": [
        "# sort dataframe by date\n",
        "volume_df = volume_df.sort_values(\"start\", ascending=True)\n",
        "daily_sentiment = daily_sentiment.sort_values(\"Date\", ascending=True)\n",
        "eth_df = eth_df.sort_values(\"Date\", ascending=True)\n",
        "eth_trends = eth_trends.sort_values(\"Day\", ascending=True)"
      ],
      "metadata": {
        "id": "Aw-ZaUw_e3NO"
      },
      "execution_count": 65,
      "outputs": []
    },
    {
      "cell_type": "code",
      "source": [
        "daily_sentiment['Count'] = volume_df['tweet_count'].to_numpy()\n",
        "daily_sentiment[\"Close\"] = eth_df['Close'].to_numpy()\n",
        "daily_sentiment[\"Change\"] = eth_df['Change'].to_numpy()\n",
        "daily_sentiment[\"Trend\"] = eth_trends['Ethereum: (Worldwide)'].to_numpy()\n",
        "daily_sentiment.tail()"
      ],
      "metadata": {
        "colab": {
          "base_uri": "https://localhost:8080/",
          "height": 206
        },
        "id": "-vvdJlsEgN_j",
        "outputId": "b4b12b7e-8ec4-43df-a67e-743080f62459"
      },
      "execution_count": 66,
      "outputs": [
        {
          "output_type": "execute_result",
          "data": {
            "text/plain": [
              "                         Date  Compound Sentiment   Count        Close  \\\n",
              "148  2022-07-27T00:00:00.000Z            0.135750  105810  1636.232666   \n",
              "149  2022-07-28T00:00:00.000Z            0.178897  122166  1725.468140   \n",
              "150  2022-07-29T00:00:00.000Z            0.111037   97136  1727.406982   \n",
              "151  2022-07-30T00:00:00.000Z            0.122775  104421  1695.969482   \n",
              "152  2022-07-31T00:00:00.000Z            0.138101  100275  1681.517334   \n",
              "\n",
              "     Change  Trend  \n",
              "148       1     40  \n",
              "149       1     48  \n",
              "150       1     46  \n",
              "151       0     41  \n",
              "152       0     39  "
            ],
            "text/html": [
              "\n",
              "  <div id=\"df-1836a91c-9886-4841-aa82-baaf9bb62cc9\">\n",
              "    <div class=\"colab-df-container\">\n",
              "      <div>\n",
              "<style scoped>\n",
              "    .dataframe tbody tr th:only-of-type {\n",
              "        vertical-align: middle;\n",
              "    }\n",
              "\n",
              "    .dataframe tbody tr th {\n",
              "        vertical-align: top;\n",
              "    }\n",
              "\n",
              "    .dataframe thead th {\n",
              "        text-align: right;\n",
              "    }\n",
              "</style>\n",
              "<table border=\"1\" class=\"dataframe\">\n",
              "  <thead>\n",
              "    <tr style=\"text-align: right;\">\n",
              "      <th></th>\n",
              "      <th>Date</th>\n",
              "      <th>Compound Sentiment</th>\n",
              "      <th>Count</th>\n",
              "      <th>Close</th>\n",
              "      <th>Change</th>\n",
              "      <th>Trend</th>\n",
              "    </tr>\n",
              "  </thead>\n",
              "  <tbody>\n",
              "    <tr>\n",
              "      <th>148</th>\n",
              "      <td>2022-07-27T00:00:00.000Z</td>\n",
              "      <td>0.135750</td>\n",
              "      <td>105810</td>\n",
              "      <td>1636.232666</td>\n",
              "      <td>1</td>\n",
              "      <td>40</td>\n",
              "    </tr>\n",
              "    <tr>\n",
              "      <th>149</th>\n",
              "      <td>2022-07-28T00:00:00.000Z</td>\n",
              "      <td>0.178897</td>\n",
              "      <td>122166</td>\n",
              "      <td>1725.468140</td>\n",
              "      <td>1</td>\n",
              "      <td>48</td>\n",
              "    </tr>\n",
              "    <tr>\n",
              "      <th>150</th>\n",
              "      <td>2022-07-29T00:00:00.000Z</td>\n",
              "      <td>0.111037</td>\n",
              "      <td>97136</td>\n",
              "      <td>1727.406982</td>\n",
              "      <td>1</td>\n",
              "      <td>46</td>\n",
              "    </tr>\n",
              "    <tr>\n",
              "      <th>151</th>\n",
              "      <td>2022-07-30T00:00:00.000Z</td>\n",
              "      <td>0.122775</td>\n",
              "      <td>104421</td>\n",
              "      <td>1695.969482</td>\n",
              "      <td>0</td>\n",
              "      <td>41</td>\n",
              "    </tr>\n",
              "    <tr>\n",
              "      <th>152</th>\n",
              "      <td>2022-07-31T00:00:00.000Z</td>\n",
              "      <td>0.138101</td>\n",
              "      <td>100275</td>\n",
              "      <td>1681.517334</td>\n",
              "      <td>0</td>\n",
              "      <td>39</td>\n",
              "    </tr>\n",
              "  </tbody>\n",
              "</table>\n",
              "</div>\n",
              "      <button class=\"colab-df-convert\" onclick=\"convertToInteractive('df-1836a91c-9886-4841-aa82-baaf9bb62cc9')\"\n",
              "              title=\"Convert this dataframe to an interactive table.\"\n",
              "              style=\"display:none;\">\n",
              "        \n",
              "  <svg xmlns=\"http://www.w3.org/2000/svg\" height=\"24px\"viewBox=\"0 0 24 24\"\n",
              "       width=\"24px\">\n",
              "    <path d=\"M0 0h24v24H0V0z\" fill=\"none\"/>\n",
              "    <path d=\"M18.56 5.44l.94 2.06.94-2.06 2.06-.94-2.06-.94-.94-2.06-.94 2.06-2.06.94zm-11 1L8.5 8.5l.94-2.06 2.06-.94-2.06-.94L8.5 2.5l-.94 2.06-2.06.94zm10 10l.94 2.06.94-2.06 2.06-.94-2.06-.94-.94-2.06-.94 2.06-2.06.94z\"/><path d=\"M17.41 7.96l-1.37-1.37c-.4-.4-.92-.59-1.43-.59-.52 0-1.04.2-1.43.59L10.3 9.45l-7.72 7.72c-.78.78-.78 2.05 0 2.83L4 21.41c.39.39.9.59 1.41.59.51 0 1.02-.2 1.41-.59l7.78-7.78 2.81-2.81c.8-.78.8-2.07 0-2.86zM5.41 20L4 18.59l7.72-7.72 1.47 1.35L5.41 20z\"/>\n",
              "  </svg>\n",
              "      </button>\n",
              "      \n",
              "  <style>\n",
              "    .colab-df-container {\n",
              "      display:flex;\n",
              "      flex-wrap:wrap;\n",
              "      gap: 12px;\n",
              "    }\n",
              "\n",
              "    .colab-df-convert {\n",
              "      background-color: #E8F0FE;\n",
              "      border: none;\n",
              "      border-radius: 50%;\n",
              "      cursor: pointer;\n",
              "      display: none;\n",
              "      fill: #1967D2;\n",
              "      height: 32px;\n",
              "      padding: 0 0 0 0;\n",
              "      width: 32px;\n",
              "    }\n",
              "\n",
              "    .colab-df-convert:hover {\n",
              "      background-color: #E2EBFA;\n",
              "      box-shadow: 0px 1px 2px rgba(60, 64, 67, 0.3), 0px 1px 3px 1px rgba(60, 64, 67, 0.15);\n",
              "      fill: #174EA6;\n",
              "    }\n",
              "\n",
              "    [theme=dark] .colab-df-convert {\n",
              "      background-color: #3B4455;\n",
              "      fill: #D2E3FC;\n",
              "    }\n",
              "\n",
              "    [theme=dark] .colab-df-convert:hover {\n",
              "      background-color: #434B5C;\n",
              "      box-shadow: 0px 1px 3px 1px rgba(0, 0, 0, 0.15);\n",
              "      filter: drop-shadow(0px 1px 2px rgba(0, 0, 0, 0.3));\n",
              "      fill: #FFFFFF;\n",
              "    }\n",
              "  </style>\n",
              "\n",
              "      <script>\n",
              "        const buttonEl =\n",
              "          document.querySelector('#df-1836a91c-9886-4841-aa82-baaf9bb62cc9 button.colab-df-convert');\n",
              "        buttonEl.style.display =\n",
              "          google.colab.kernel.accessAllowed ? 'block' : 'none';\n",
              "\n",
              "        async function convertToInteractive(key) {\n",
              "          const element = document.querySelector('#df-1836a91c-9886-4841-aa82-baaf9bb62cc9');\n",
              "          const dataTable =\n",
              "            await google.colab.kernel.invokeFunction('convertToInteractive',\n",
              "                                                     [key], {});\n",
              "          if (!dataTable) return;\n",
              "\n",
              "          const docLinkHtml = 'Like what you see? Visit the ' +\n",
              "            '<a target=\"_blank\" href=https://colab.research.google.com/notebooks/data_table.ipynb>data table notebook</a>'\n",
              "            + ' to learn more about interactive tables.';\n",
              "          element.innerHTML = '';\n",
              "          dataTable['output_type'] = 'display_data';\n",
              "          await google.colab.output.renderOutput(dataTable, element);\n",
              "          const docLink = document.createElement('div');\n",
              "          docLink.innerHTML = docLinkHtml;\n",
              "          element.appendChild(docLink);\n",
              "        }\n",
              "      </script>\n",
              "    </div>\n",
              "  </div>\n",
              "  "
            ]
          },
          "metadata": {},
          "execution_count": 66
        }
      ]
    },
    {
      "cell_type": "code",
      "source": [
        "# Rename column and drop all date columns\n",
        "\n",
        "df = daily_sentiment.rename(columns={'Compound Sentiment': 'Sentiment', \"Close\": \"Price\"})\n",
        "df.drop('Date', axis=1, inplace=True)\n",
        "df.head()"
      ],
      "metadata": {
        "colab": {
          "base_uri": "https://localhost:8080/",
          "height": 206
        },
        "id": "pe-zUbnTg76Z",
        "outputId": "ad7540b3-ab86-4ffb-a20b-061d1a875edb"
      },
      "execution_count": 67,
      "outputs": [
        {
          "output_type": "execute_result",
          "data": {
            "text/plain": [
              "   Sentiment  Count        Price  Change  Trend\n",
              "0   0.243190  91952  2972.485107       1     58\n",
              "1   0.235499  86876  2950.118408       0     52\n",
              "2   0.148117  87218  2834.468994       0     47\n",
              "3   0.202503  83943  2617.156006       0     44\n",
              "4   0.317556  80204  2664.831055       1     41"
            ],
            "text/html": [
              "\n",
              "  <div id=\"df-81a23ff8-e705-4da6-8de5-059f140beb5c\">\n",
              "    <div class=\"colab-df-container\">\n",
              "      <div>\n",
              "<style scoped>\n",
              "    .dataframe tbody tr th:only-of-type {\n",
              "        vertical-align: middle;\n",
              "    }\n",
              "\n",
              "    .dataframe tbody tr th {\n",
              "        vertical-align: top;\n",
              "    }\n",
              "\n",
              "    .dataframe thead th {\n",
              "        text-align: right;\n",
              "    }\n",
              "</style>\n",
              "<table border=\"1\" class=\"dataframe\">\n",
              "  <thead>\n",
              "    <tr style=\"text-align: right;\">\n",
              "      <th></th>\n",
              "      <th>Sentiment</th>\n",
              "      <th>Count</th>\n",
              "      <th>Price</th>\n",
              "      <th>Change</th>\n",
              "      <th>Trend</th>\n",
              "    </tr>\n",
              "  </thead>\n",
              "  <tbody>\n",
              "    <tr>\n",
              "      <th>0</th>\n",
              "      <td>0.243190</td>\n",
              "      <td>91952</td>\n",
              "      <td>2972.485107</td>\n",
              "      <td>1</td>\n",
              "      <td>58</td>\n",
              "    </tr>\n",
              "    <tr>\n",
              "      <th>1</th>\n",
              "      <td>0.235499</td>\n",
              "      <td>86876</td>\n",
              "      <td>2950.118408</td>\n",
              "      <td>0</td>\n",
              "      <td>52</td>\n",
              "    </tr>\n",
              "    <tr>\n",
              "      <th>2</th>\n",
              "      <td>0.148117</td>\n",
              "      <td>87218</td>\n",
              "      <td>2834.468994</td>\n",
              "      <td>0</td>\n",
              "      <td>47</td>\n",
              "    </tr>\n",
              "    <tr>\n",
              "      <th>3</th>\n",
              "      <td>0.202503</td>\n",
              "      <td>83943</td>\n",
              "      <td>2617.156006</td>\n",
              "      <td>0</td>\n",
              "      <td>44</td>\n",
              "    </tr>\n",
              "    <tr>\n",
              "      <th>4</th>\n",
              "      <td>0.317556</td>\n",
              "      <td>80204</td>\n",
              "      <td>2664.831055</td>\n",
              "      <td>1</td>\n",
              "      <td>41</td>\n",
              "    </tr>\n",
              "  </tbody>\n",
              "</table>\n",
              "</div>\n",
              "      <button class=\"colab-df-convert\" onclick=\"convertToInteractive('df-81a23ff8-e705-4da6-8de5-059f140beb5c')\"\n",
              "              title=\"Convert this dataframe to an interactive table.\"\n",
              "              style=\"display:none;\">\n",
              "        \n",
              "  <svg xmlns=\"http://www.w3.org/2000/svg\" height=\"24px\"viewBox=\"0 0 24 24\"\n",
              "       width=\"24px\">\n",
              "    <path d=\"M0 0h24v24H0V0z\" fill=\"none\"/>\n",
              "    <path d=\"M18.56 5.44l.94 2.06.94-2.06 2.06-.94-2.06-.94-.94-2.06-.94 2.06-2.06.94zm-11 1L8.5 8.5l.94-2.06 2.06-.94-2.06-.94L8.5 2.5l-.94 2.06-2.06.94zm10 10l.94 2.06.94-2.06 2.06-.94-2.06-.94-.94-2.06-.94 2.06-2.06.94z\"/><path d=\"M17.41 7.96l-1.37-1.37c-.4-.4-.92-.59-1.43-.59-.52 0-1.04.2-1.43.59L10.3 9.45l-7.72 7.72c-.78.78-.78 2.05 0 2.83L4 21.41c.39.39.9.59 1.41.59.51 0 1.02-.2 1.41-.59l7.78-7.78 2.81-2.81c.8-.78.8-2.07 0-2.86zM5.41 20L4 18.59l7.72-7.72 1.47 1.35L5.41 20z\"/>\n",
              "  </svg>\n",
              "      </button>\n",
              "      \n",
              "  <style>\n",
              "    .colab-df-container {\n",
              "      display:flex;\n",
              "      flex-wrap:wrap;\n",
              "      gap: 12px;\n",
              "    }\n",
              "\n",
              "    .colab-df-convert {\n",
              "      background-color: #E8F0FE;\n",
              "      border: none;\n",
              "      border-radius: 50%;\n",
              "      cursor: pointer;\n",
              "      display: none;\n",
              "      fill: #1967D2;\n",
              "      height: 32px;\n",
              "      padding: 0 0 0 0;\n",
              "      width: 32px;\n",
              "    }\n",
              "\n",
              "    .colab-df-convert:hover {\n",
              "      background-color: #E2EBFA;\n",
              "      box-shadow: 0px 1px 2px rgba(60, 64, 67, 0.3), 0px 1px 3px 1px rgba(60, 64, 67, 0.15);\n",
              "      fill: #174EA6;\n",
              "    }\n",
              "\n",
              "    [theme=dark] .colab-df-convert {\n",
              "      background-color: #3B4455;\n",
              "      fill: #D2E3FC;\n",
              "    }\n",
              "\n",
              "    [theme=dark] .colab-df-convert:hover {\n",
              "      background-color: #434B5C;\n",
              "      box-shadow: 0px 1px 3px 1px rgba(0, 0, 0, 0.15);\n",
              "      filter: drop-shadow(0px 1px 2px rgba(0, 0, 0, 0.3));\n",
              "      fill: #FFFFFF;\n",
              "    }\n",
              "  </style>\n",
              "\n",
              "      <script>\n",
              "        const buttonEl =\n",
              "          document.querySelector('#df-81a23ff8-e705-4da6-8de5-059f140beb5c button.colab-df-convert');\n",
              "        buttonEl.style.display =\n",
              "          google.colab.kernel.accessAllowed ? 'block' : 'none';\n",
              "\n",
              "        async function convertToInteractive(key) {\n",
              "          const element = document.querySelector('#df-81a23ff8-e705-4da6-8de5-059f140beb5c');\n",
              "          const dataTable =\n",
              "            await google.colab.kernel.invokeFunction('convertToInteractive',\n",
              "                                                     [key], {});\n",
              "          if (!dataTable) return;\n",
              "\n",
              "          const docLinkHtml = 'Like what you see? Visit the ' +\n",
              "            '<a target=\"_blank\" href=https://colab.research.google.com/notebooks/data_table.ipynb>data table notebook</a>'\n",
              "            + ' to learn more about interactive tables.';\n",
              "          element.innerHTML = '';\n",
              "          dataTable['output_type'] = 'display_data';\n",
              "          await google.colab.output.renderOutput(dataTable, element);\n",
              "          const docLink = document.createElement('div');\n",
              "          docLink.innerHTML = docLinkHtml;\n",
              "          element.appendChild(docLink);\n",
              "        }\n",
              "      </script>\n",
              "    </div>\n",
              "  </div>\n",
              "  "
            ]
          },
          "metadata": {},
          "execution_count": 67
        }
      ]
    },
    {
      "cell_type": "code",
      "source": [
        "# df.drop('Price', axis=1, inplace=True)"
      ],
      "metadata": {
        "id": "-v43stuas1Dc"
      },
      "execution_count": 25,
      "outputs": []
    },
    {
      "cell_type": "code",
      "source": [],
      "metadata": {
        "id": "Jgxa3vtnthpa"
      },
      "execution_count": null,
      "outputs": []
    },
    {
      "cell_type": "code",
      "source": [
        "# df.to_csv('data.csv', encoding='utf-8', index=False)"
      ],
      "metadata": {
        "id": "20XdBs5pr3q9"
      },
      "execution_count": 26,
      "outputs": []
    },
    {
      "cell_type": "code",
      "source": [
        "df.info()"
      ],
      "metadata": {
        "colab": {
          "base_uri": "https://localhost:8080/"
        },
        "id": "Sehjyg4fi13A",
        "outputId": "573439d5-c575-4d4a-d7b8-fdc132a95f3d"
      },
      "execution_count": 68,
      "outputs": [
        {
          "output_type": "stream",
          "name": "stdout",
          "text": [
            "<class 'pandas.core.frame.DataFrame'>\n",
            "Int64Index: 153 entries, 0 to 152\n",
            "Data columns (total 5 columns):\n",
            " #   Column     Non-Null Count  Dtype  \n",
            "---  ------     --------------  -----  \n",
            " 0   Sentiment  153 non-null    float64\n",
            " 1   Count      153 non-null    int64  \n",
            " 2   Price      153 non-null    float64\n",
            " 3   Change     153 non-null    int64  \n",
            " 4   Trend      153 non-null    int64  \n",
            "dtypes: float64(2), int64(3)\n",
            "memory usage: 7.2 KB\n"
          ]
        }
      ]
    },
    {
      "cell_type": "markdown",
      "source": [
        "#### Correlations"
      ],
      "metadata": {
        "id": "smd7noPujoCb"
      }
    },
    {
      "cell_type": "code",
      "source": [
        "corr_matrix = scaled_df.corr()\n",
        "corr_matrix[\"Change\"]"
      ],
      "metadata": {
        "colab": {
          "base_uri": "https://localhost:8080/"
        },
        "id": "OC20lMSOjq14",
        "outputId": "7d466671-71d4-435a-a30e-db1e1afab5d9"
      },
      "execution_count": 78,
      "outputs": [
        {
          "output_type": "execute_result",
          "data": {
            "text/plain": [
              "Sentiment    0.103337\n",
              "Count       -0.029013\n",
              "Price        0.088131\n",
              "Change       1.000000\n",
              "Trend       -0.018307\n",
              "Name: Change, dtype: float64"
            ]
          },
          "metadata": {},
          "execution_count": 78
        }
      ]
    },
    {
      "cell_type": "markdown",
      "source": [
        "#### Normalize Data"
      ],
      "metadata": {
        "id": "1NiS8FL4wYwv"
      }
    },
    {
      "cell_type": "code",
      "source": [
        "from sklearn.preprocessing import MinMaxScaler\n",
        "\n",
        "# define min max scaler\n",
        "scaler = MinMaxScaler()\n",
        "# transform data\n",
        "scaled = scaler.fit_transform(df)\n",
        "scaled_df = pd.DataFrame(scaled)"
      ],
      "metadata": {
        "id": "kj3N9WhUwdtU"
      },
      "execution_count": 69,
      "outputs": []
    },
    {
      "cell_type": "code",
      "source": [
        "scaled_df = scaled_df.rename({0: \"Sentiment\", 1: \"Count\",2: \"Price\", 3: \"Change\", 4: \"Trend\"}, axis=1)"
      ],
      "metadata": {
        "id": "rqbDhyl5w8EK"
      },
      "execution_count": 72,
      "outputs": []
    },
    {
      "cell_type": "markdown",
      "source": [
        "## Visual EDA"
      ],
      "metadata": {
        "id": "om512YkEl9Am"
      }
    },
    {
      "cell_type": "code",
      "source": [
        "%matplotlib inline\n",
        "import matplotlib.pyplot as plt\n",
        "\n",
        "df.hist(bins=50, figsize=(16,12))\n",
        "plt.show()"
      ],
      "metadata": {
        "colab": {
          "base_uri": "https://localhost:8080/",
          "height": 628
        },
        "id": "jioWVnVAmGKZ",
        "outputId": "f48f2b91-11e4-4aa1-95ec-6185758ee2e6"
      },
      "execution_count": 60,
      "outputs": [
        {
          "output_type": "display_data",
          "data": {
            "text/plain": [
              "<Figure size 1152x864 with 6 Axes>"
            ],
            "image/png": "[encoded data removed]"
          },
          "metadata": {
            "needs_background": "light"
          }
        }
      ]
    },
    {
      "cell_type": "code",
      "source": [
        "scaled_plot = scaled_df.plot(y=[\"Price\", \"Count\"], figsize=(10,5), grid=True)\n",
        "scaled_plot.set_xlabel(\"Day\")"
      ],
      "metadata": {
        "colab": {
          "base_uri": "https://localhost:8080/",
          "height": 351
        },
        "id": "MOSXbmECkVzZ",
        "outputId": "aec233ca-55a7-409b-a642-884ebabef358"
      },
      "execution_count": 77,
      "outputs": [
        {
          "output_type": "execute_result",
          "data": {
            "text/plain": [
              "Text(0.5, 0, 'Day')"
            ]
          },
          "metadata": {},
          "execution_count": 77
        },
        {
          "output_type": "display_data",
          "data": {
            "text/plain": [
              "<Figure size 720x360 with 1 Axes>"
            ],
            "image/png": "[encoded data removed]"
          },
          "metadata": {
            "needs_background": "light"
          }
        }
      ]
    },
    {
      "cell_type": "code",
      "source": [
        "df.plot(kind=\"scatter\", x=\"Sentiment\", y=\"Change\")"
      ],
      "metadata": {
        "colab": {
          "base_uri": "https://localhost:8080/",
          "height": 296
        },
        "id": "H-a8JuvlkWfe",
        "outputId": "c3c024c4-2231-4fc9-9edc-7d216e837f25"
      },
      "execution_count": 42,
      "outputs": [
        {
          "output_type": "execute_result",
          "data": {
            "text/plain": [
              "<matplotlib.axes._subplots.AxesSubplot at 0x7fc6b6145650>"
            ]
          },
          "metadata": {},
          "execution_count": 42
        },
        {
          "output_type": "display_data",
          "data": {
            "text/plain": [
              "<Figure size 432x288 with 1 Axes>"
            ],
            "image/png": "[encoded data removed]"
          },
          "metadata": {
            "needs_background": "light"
          }
        }
      ]
    },
    {
      "cell_type": "code",
      "source": [
        "df.plot(kind=\"scatter\", x=\"Trend\", y=\"Change\")"
      ],
      "metadata": {
        "colab": {
          "base_uri": "https://localhost:8080/",
          "height": 296
        },
        "id": "yh9QbMHYzfqW",
        "outputId": "f2ddbb62-2f07-4477-a049-bda3387eab46"
      },
      "execution_count": 43,
      "outputs": [
        {
          "output_type": "execute_result",
          "data": {
            "text/plain": [
              "<matplotlib.axes._subplots.AxesSubplot at 0x7fc6b60b7210>"
            ]
          },
          "metadata": {},
          "execution_count": 43
        },
        {
          "output_type": "display_data",
          "data": {
            "text/plain": [
              "<Figure size 432x288 with 1 Axes>"
            ],
            "image/png": "[encoded data removed]"
          },
          "metadata": {
            "needs_background": "light"
          }
        }
      ]
    },
    {
      "cell_type": "code",
      "source": [
        "df.plot(kind=\"scatter\", x=\"Trend\", y=\"Change\")"
      ],
      "metadata": {
        "colab": {
          "base_uri": "https://localhost:8080/",
          "height": 296
        },
        "id": "CzEtie6tuYB9",
        "outputId": "8be1d8d9-5f6e-4123-8e49-3aed0986a45b"
      },
      "execution_count": 44,
      "outputs": [
        {
          "output_type": "execute_result",
          "data": {
            "text/plain": [
              "<matplotlib.axes._subplots.AxesSubplot at 0x7fc6b6098e50>"
            ]
          },
          "metadata": {},
          "execution_count": 44
        },
        {
          "output_type": "display_data",
          "data": {
            "text/plain": [
              "<Figure size 432x288 with 1 Axes>"
            ],
            "image/png": "[encoded data removed]"
          },
          "metadata": {
            "needs_background": "light"
          }
        }
      ]
    },
    {
      "cell_type": "code",
      "source": [
        "### Preparing Data for ML"
      ],
      "metadata": {
        "id": "-YmRHunzHW5-"
      },
      "execution_count": null,
      "outputs": []
    },
    {
      "cell_type": "markdown",
      "source": [
        "## Preparing Data for ML"
      ],
      "metadata": {
        "id": "sQ2Z9bTgHh98"
      }
    },
    {
      "cell_type": "markdown",
      "source": [
        "### Splitting Data"
      ],
      "metadata": {
        "id": "wWKAdIxoHldU"
      }
    },
    {
      "cell_type": "code",
      "source": [
        "y = df[\"Change\"]\n",
        "X = df.drop([\"Price\", 'Change'], axis=1)\n",
        "\n",
        "print(X.shape)\n",
        "print(y.shape)"
      ],
      "metadata": {
        "colab": {
          "base_uri": "https://localhost:8080/"
        },
        "id": "3Vebg0gCIMh4",
        "outputId": "e0537d7e-d82e-408a-e8de-31272cc26364"
      },
      "execution_count": 38,
      "outputs": [
        {
          "output_type": "stream",
          "name": "stdout",
          "text": [
            "(153, 3)\n",
            "(153,)\n"
          ]
        }
      ]
    },
    {
      "cell_type": "code",
      "source": [
        "from sklearn.model_selection import train_test_split\n",
        "\n",
        "X_train, X_test, y_train, y_test = train_test_split(X, y, test_size=0.4, random_state=42)"
      ],
      "metadata": {
        "id": "SN2W-KVaHZjG"
      },
      "execution_count": 39,
      "outputs": []
    },
    {
      "cell_type": "markdown",
      "source": [
        "### KNearestNeighbor"
      ],
      "metadata": {
        "id": "euLRlgFJbxq2"
      }
    },
    {
      "cell_type": "code",
      "source": [
        "from sklearn.neighbors import KNeighborsClassifier\n",
        "from sklearn.model_selection import cross_val_score\n",
        "\n",
        "model = KNeighborsClassifier(n_neighbors=5)\n",
        "\n",
        "# fit regression model to training data\n",
        "model.fit(X_train, y_train)"
      ],
      "metadata": {
        "colab": {
          "base_uri": "https://localhost:8080/"
        },
        "id": "S_LX8aS-b1KE",
        "outputId": "d6fe4e85-0baf-4c31-bc45-bd0f91797888"
      },
      "execution_count": 46,
      "outputs": [
        {
          "output_type": "execute_result",
          "data": {
            "text/plain": [
              "KNeighborsClassifier()"
            ]
          },
          "metadata": {},
          "execution_count": 46
        }
      ]
    },
    {
      "cell_type": "markdown",
      "source": [
        "#### Model Accuracy"
      ],
      "metadata": {
        "id": "9KoJ048eb7Gp"
      }
    },
    {
      "cell_type": "code",
      "source": [
        "# accuracy of predict on training set\n",
        "model.score(X_train, y_train)"
      ],
      "metadata": {
        "colab": {
          "base_uri": "https://localhost:8080/"
        },
        "id": "nfPDKF44b9Yh",
        "outputId": "cbdd57b7-4d7a-49bc-e6ea-b01a1ee0bad5"
      },
      "execution_count": 47,
      "outputs": [
        {
          "output_type": "execute_result",
          "data": {
            "text/plain": [
              "0.6813186813186813"
            ]
          },
          "metadata": {},
          "execution_count": 47
        }
      ]
    },
    {
      "cell_type": "code",
      "source": [
        "# accuracy of predict on training set\n",
        "model.score(X_test, y_test)"
      ],
      "metadata": {
        "colab": {
          "base_uri": "https://localhost:8080/"
        },
        "id": "4miomMK_cAYl",
        "outputId": "65d00282-7c90-47b2-f2b9-ef37a87784c8"
      },
      "execution_count": 48,
      "outputs": [
        {
          "output_type": "execute_result",
          "data": {
            "text/plain": [
              "0.532258064516129"
            ]
          },
          "metadata": {},
          "execution_count": 48
        }
      ]
    },
    {
      "cell_type": "markdown",
      "source": [
        "### Evaluation with Cross Validation"
      ],
      "metadata": {
        "id": "8WD0oSGlqmLE"
      }
    },
    {
      "cell_type": "code",
      "source": [
        "# accuracy using cross-validation\n",
        "scores = cross_val_score(model, X_train, y_train, cv=5)\n",
        "scores"
      ],
      "metadata": {
        "colab": {
          "base_uri": "https://localhost:8080/"
        },
        "id": "A5Sc-cT-ql34",
        "outputId": "d738cf9f-3e50-4e41-d4a5-2d652ab047af"
      },
      "execution_count": 49,
      "outputs": [
        {
          "output_type": "execute_result",
          "data": {
            "text/plain": [
              "array([0.52631579, 0.44444444, 0.38888889, 0.66666667, 0.33333333])"
            ]
          },
          "metadata": {},
          "execution_count": 49
        }
      ]
    },
    {
      "cell_type": "markdown",
      "source": [
        "### Naive Bayes Classifier"
      ],
      "metadata": {
        "id": "YkjA9nRLcJlJ"
      }
    },
    {
      "cell_type": "code",
      "source": [
        "#Import Gaussian Naive Bayes model\n",
        "from sklearn.naive_bayes import GaussianNB\n",
        "\n",
        "#Create a Gaussian Classifier\n",
        "model = GaussianNB()\n",
        "\n",
        "# Train the model using the training sets\n",
        "model.fit(X_train, y_train)"
      ],
      "metadata": {
        "colab": {
          "base_uri": "https://localhost:8080/"
        },
        "id": "ckrWQ5ErcHrb",
        "outputId": "c68b5c48-ab1d-4e8b-cbca-ee913a6ddfe8"
      },
      "execution_count": 50,
      "outputs": [
        {
          "output_type": "execute_result",
          "data": {
            "text/plain": [
              "GaussianNB()"
            ]
          },
          "metadata": {},
          "execution_count": 50
        }
      ]
    },
    {
      "cell_type": "markdown",
      "source": [
        "#### Accuracy"
      ],
      "metadata": {
        "id": "C6uN0IeYc1li"
      }
    },
    {
      "cell_type": "code",
      "source": [
        "# accuracy of predict on train set\n",
        "model.score(X_train, y_train)"
      ],
      "metadata": {
        "colab": {
          "base_uri": "https://localhost:8080/"
        },
        "id": "6YCygGlkcun4",
        "outputId": "7bb3ff55-6a35-4fe9-d3f9-a1680749638d"
      },
      "execution_count": 51,
      "outputs": [
        {
          "output_type": "execute_result",
          "data": {
            "text/plain": [
              "0.5494505494505495"
            ]
          },
          "metadata": {},
          "execution_count": 51
        }
      ]
    },
    {
      "cell_type": "code",
      "source": [
        "# accuracy of predict on test set\n",
        "model.score(X_test, y_test)"
      ],
      "metadata": {
        "colab": {
          "base_uri": "https://localhost:8080/"
        },
        "id": "O4z1mMODcwx_",
        "outputId": "5556e133-9a0a-4d63-d1fc-9d0134ff90a6"
      },
      "execution_count": 52,
      "outputs": [
        {
          "output_type": "execute_result",
          "data": {
            "text/plain": [
              "0.43548387096774194"
            ]
          },
          "metadata": {},
          "execution_count": 52
        }
      ]
    },
    {
      "cell_type": "markdown",
      "source": [
        "#### Evaluation with cross validation"
      ],
      "metadata": {
        "id": "IPQbTn2_q_0f"
      }
    },
    {
      "cell_type": "code",
      "source": [
        "# accuracy using cross-validation\n",
        "scores = cross_val_score(model, X_train, y_train, cv=5)\n",
        "scores"
      ],
      "metadata": {
        "colab": {
          "base_uri": "https://localhost:8080/"
        },
        "id": "09plLJRsq2Qm",
        "outputId": "233c7a4c-2cac-4d7d-ecc1-56a1274fcf75"
      },
      "execution_count": 53,
      "outputs": [
        {
          "output_type": "execute_result",
          "data": {
            "text/plain": [
              "array([0.52631579, 0.44444444, 0.33333333, 0.5       , 0.33333333])"
            ]
          },
          "metadata": {},
          "execution_count": 53
        }
      ]
    },
    {
      "cell_type": "markdown",
      "source": [
        "### RandomForestClassifier"
      ],
      "metadata": {
        "id": "_E0NU-rjc8pR"
      }
    },
    {
      "cell_type": "code",
      "source": [
        "#Import Random Forest Model\n",
        "from sklearn.ensemble import RandomForestClassifier\n",
        "\n",
        "#Create a Gaussian Classifier\n",
        "clf=RandomForestClassifier(n_estimators=100)\n",
        "\n",
        "#Train the model using the training sets y_pred=clf.predict(X_test)\n",
        "clf.fit(X_train, y_train)\n",
        "\n",
        "y_pred=clf.predict(X_test)"
      ],
      "metadata": {
        "id": "jT6Bc-rBdLIE"
      },
      "execution_count": 54,
      "outputs": []
    },
    {
      "cell_type": "code",
      "source": [
        "#Import scikit-learn metrics module for accuracy calculation\n",
        "from sklearn import metrics\n",
        "# Model Accuracy, how often is the classifier correct?\n",
        "print(\"Accuracy:\",metrics.accuracy_score(y_test, y_pred))"
      ],
      "metadata": {
        "colab": {
          "base_uri": "https://localhost:8080/"
        },
        "id": "nHtpLYGRrbar",
        "outputId": "8f36eddc-8cbc-45f6-9d80-153eb8e7187a"
      },
      "execution_count": 55,
      "outputs": [
        {
          "output_type": "stream",
          "name": "stdout",
          "text": [
            "Accuracy: 0.5161290322580645\n"
          ]
        }
      ]
    },
    {
      "cell_type": "markdown",
      "source": [
        "#### Cross Validation"
      ],
      "metadata": {
        "id": "8W1ATCVKrg5R"
      }
    },
    {
      "cell_type": "code",
      "source": [
        "# accuracy using cross-validation\n",
        "scores = cross_val_score(clf, X_train, y_train, cv=5)\n",
        "scores"
      ],
      "metadata": {
        "colab": {
          "base_uri": "https://localhost:8080/"
        },
        "id": "yWXeVTairjST",
        "outputId": "eb0e38db-cd4e-48e9-b35a-3a2785ab8c75"
      },
      "execution_count": 56,
      "outputs": [
        {
          "output_type": "execute_result",
          "data": {
            "text/plain": [
              "array([0.47368421, 0.55555556, 0.5       , 0.66666667, 0.38888889])"
            ]
          },
          "metadata": {},
          "execution_count": 56
        }
      ]
    }
  ]
}